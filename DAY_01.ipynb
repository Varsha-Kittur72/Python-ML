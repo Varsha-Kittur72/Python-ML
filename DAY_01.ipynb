{
  "nbformat": 4,
  "nbformat_minor": 0,
  "metadata": {
    "colab": {
      "provenance": []
    },
    "kernelspec": {
      "name": "python3",
      "display_name": "Python 3"
    },
    "language_info": {
      "name": "python"
    }
  },
  "cells": [
    {
      "cell_type": "code",
      "execution_count": null,
      "metadata": {
        "colab": {
          "base_uri": "https://localhost:8080/"
        },
        "id": "OOiYASYtyrKW",
        "outputId": "0dfa6d62-8d24-4b1c-990e-c327108e88d7"
      },
      "outputs": [
        {
          "output_type": "stream",
          "name": "stdout",
          "text": [
            "hello,world\n"
          ]
        }
      ],
      "source": [
        "\n",
        "print(\"hello,world\")\n",
        "x=5\n",
        "y=10"
      ]
    },
    {
      "cell_type": "code",
      "source": [
        "Name=\"Varsha\"\n",
        "name=\"kittur\"\n",
        "print(Name,name)"
      ],
      "metadata": {
        "colab": {
          "base_uri": "https://localhost:8080/"
        },
        "id": "Dv4SxZZA8woC",
        "outputId": "3ec10b2a-ffad-46c4-c3cd-e2db3b677be3"
      },
      "execution_count": null,
      "outputs": [
        {
          "output_type": "stream",
          "name": "stdout",
          "text": [
            "Varsha kittur\n"
          ]
        }
      ]
    },
    {
      "cell_type": "code",
      "source": [
        "if x>0:\n",
        "  print(\"x is positive\")\n",
        "  print(\"This is inside the if block\")"
      ],
      "metadata": {
        "colab": {
          "base_uri": "https://localhost:8080/"
        },
        "id": "cne0tBbj9CL7",
        "outputId": "56e87cbf-02fa-4398-8627-125bd2c7c4a5"
      },
      "execution_count": null,
      "outputs": [
        {
          "output_type": "stream",
          "name": "stdout",
          "text": [
            "x is positive\n",
            "This is inside the if block\n"
          ]
        }
      ]
    },
    {
      "cell_type": "code",
      "source": [
        "age=20\n",
        "height=5.3\n",
        "complex_num=3+4j"
      ],
      "metadata": {
        "id": "z7B3wWPo9T5u"
      },
      "execution_count": null,
      "outputs": []
    },
    {
      "cell_type": "code",
      "source": [
        "name=\"Varsha\"\n",
        "message='hello world'\n",
        "multiline=\"\"\"This is multiline string\"\"\""
      ],
      "metadata": {
        "id": "cinuJVzk9pQi"
      },
      "execution_count": null,
      "outputs": []
    },
    {
      "cell_type": "code",
      "source": [
        "is_active=True\n",
        "is_finished=False"
      ],
      "metadata": {
        "id": "heO9dun4-EZY"
      },
      "execution_count": null,
      "outputs": []
    },
    {
      "cell_type": "code",
      "source": [
        "print(type(age))\n",
        "print(type(height))\n",
        "print(type(name))\n"
      ],
      "metadata": {
        "id": "J4lzjSea-NS6",
        "colab": {
          "base_uri": "https://localhost:8080/"
        },
        "outputId": "46c7d6a9-4c72-4f0b-e08e-dcf0f8acfe42"
      },
      "execution_count": null,
      "outputs": [
        {
          "output_type": "stream",
          "name": "stdout",
          "text": [
            "<class 'int'>\n",
            "<class 'float'>\n",
            "<class 'str'>\n"
          ]
        }
      ]
    },
    {
      "cell_type": "code",
      "source": [
        "str_number=\"123\"\n",
        "int_number=int(str_number)\n",
        "float_number=float(str_number)\n",
        "print(f\"Original:{str_number}(type:{type(str_number)})\")\n",
        "print(f\"Integer:{int_number} (type:{(int_number)})\")\n",
        "print(f\"float:{float_number}(type:{float_number})\")"
      ],
      "metadata": {
        "id": "caJmRCpZ_FFx",
        "colab": {
          "base_uri": "https://localhost:8080/"
        },
        "outputId": "6fad95f5-184f-4d8d-b27e-0de59db41e3c"
      },
      "execution_count": null,
      "outputs": [
        {
          "output_type": "stream",
          "name": "stdout",
          "text": [
            "Original:123(type:<class 'str'>)\n",
            "Integer:123 (type:123)\n",
            "float:123.0(type:123.0)\n"
          ]
        }
      ]
    },
    {
      "cell_type": "code",
      "source": [
        "first_name=\"your First Name\"\n",
        "last_name=\"your Last Name\"\n",
        "age=25\n",
        "height=5.8\n",
        "is_student=True\n"
      ],
      "metadata": {
        "id": "yKmuc7_GAt8m"
      },
      "execution_count": null,
      "outputs": []
    },
    {
      "cell_type": "code",
      "source": [
        "print(f\"Name:{first_name}{last_name}\")\n",
        "print(f\"Age: {age}\")\n",
        "print(f\"Height: {height} feet\")\n",
        "print(f\"Student: {is_student}\")\n"
      ],
      "metadata": {
        "id": "89o6SKhJ_nBb",
        "colab": {
          "base_uri": "https://localhost:8080/"
        },
        "outputId": "0e1fd9c6-7dfd-4668-d08f-ce1ad897e8a1"
      },
      "execution_count": null,
      "outputs": [
        {
          "output_type": "stream",
          "name": "stdout",
          "text": [
            "Name:your First Nameyour Last Name\n",
            "Age: 25\n",
            "Height: 5.8 feet\n",
            "Student: True\n"
          ]
        }
      ]
    },
    {
      "cell_type": "code",
      "source": [
        "age_str = str (age)\n",
        "height_int = int(height)\n",
        "print(f\"Age as string: {age_str}\")\n",
        "print(f\"Height as integer: {height_int}\")"
      ],
      "metadata": {
        "colab": {
          "base_uri": "https://localhost:8080/"
        },
        "id": "2ymYI8u-BlTS",
        "outputId": "24ee2633-1ff8-4ff5-aac0-1fae0191a8ad"
      },
      "execution_count": null,
      "outputs": [
        {
          "output_type": "stream",
          "name": "stdout",
          "text": [
            "Age as string: 25\n",
            "Height as integer: 5\n"
          ]
        }
      ]
    },
    {
      "cell_type": "code",
      "source": [
        "a = 10\n",
        "b = 3\n",
        "\n",
        "print(f\"Addition: {a} + {b} = {a + b}\")\n",
        "print(f\"Subtraction: {a} - {b} = {a - b}\")\n",
        "print(f\"Multiplication: {a} * {b} = {a * b}\")\n",
        "print(f\"Division: {a} / {b} = {a / b}\")\n",
        "print(f\"Floor Division: {a} // {b} = {a // b}\")\n",
        "print(f\"Modulus: {a} % {b} = {a % b}\")\n",
        "print(f\"Exponentiation: {a} ** {b} = {a ** b}\")\n",
        "\n"
      ],
      "metadata": {
        "colab": {
          "base_uri": "https://localhost:8080/"
        },
        "id": "TZq44ijeBtL6",
        "outputId": "277e3564-a21c-4310-cf3f-bd76e40bf398"
      },
      "execution_count": null,
      "outputs": [
        {
          "output_type": "stream",
          "name": "stdout",
          "text": [
            "Addition: 10 + 3 = 13\n",
            "Subtraction: 10 - 3 = 7\n",
            "Multiplication: 10 * 3 = 30\n",
            "Division: 10 / 3 = 3.3333333333333335\n",
            "Floor Division: 10 // 3 = 3\n",
            "Modulus: 10 % 3 = 1\n",
            "Exponentiation: 10 ** 3 = 1000\n"
          ]
        }
      ]
    },
    {
      "cell_type": "code",
      "source": [
        "result = 2 + 3 * 4 ** 2 - 1\n",
        "print(f\"2 + 3 * 4 ** 2 - 1 = {result}\")\n",
        "\n"
      ],
      "metadata": {
        "colab": {
          "base_uri": "https://localhost:8080/"
        },
        "id": "sZyfI0_hB2hp",
        "outputId": "a1aca96d-7d7b-40c8-c9e5-52d20ca133e0"
      },
      "execution_count": null,
      "outputs": [
        {
          "output_type": "stream",
          "name": "stdout",
          "text": [
            "2 + 3 * 4 ** 2 - 1 = 49\n"
          ]
        }
      ]
    },
    {
      "cell_type": "code",
      "source": [
        "x = 5\n",
        "y = 10\n",
        "\n",
        "print(f\"{x} == {y}: {x == y}\") # Equal to\n",
        "print(f\"{x} != {y}: {x != y}\") # Not equal to\n",
        "print(f\"{x} < {y}: {x < y}\") # Less than\n",
        "print(f\"{x} > {y}: {x > y}\") # Greater than\n",
        "print(f\"{x} <= {y}: {x <= y}\") # Less than or equal\n",
        "print(f\"{x} >= {y}: {x >= y}\") # Greater than or equal\n"
      ],
      "metadata": {
        "colab": {
          "base_uri": "https://localhost:8080/"
        },
        "id": "JJr9x9UYB_6J",
        "outputId": "64c44c30-bc30-4f4a-e0e5-2778b8ab41dd"
      },
      "execution_count": null,
      "outputs": [
        {
          "output_type": "stream",
          "name": "stdout",
          "text": [
            "5 == 10: False\n",
            "5 != 10: True\n",
            "5 < 10: True\n",
            "5 > 10: False\n",
            "5 <= 10: True\n",
            "5 >= 10: False\n"
          ]
        }
      ]
    },
    {
      "cell_type": "code",
      "source": [
        "name1 = \"Alice\"\n",
        "name2 = \"Bob\"\n",
        "print(f\"'{name1}' < '{name2}': {name1 < name2}\") # Alphabetical order"
      ],
      "metadata": {
        "colab": {
          "base_uri": "https://localhost:8080/"
        },
        "id": "mRb4PD-jCDJB",
        "outputId": "eef00725-6a15-4bab-d73a-187d49a09d51"
      },
      "execution_count": null,
      "outputs": [
        {
          "output_type": "stream",
          "name": "stdout",
          "text": [
            "'Alice' < 'Bob': True\n"
          ]
        }
      ]
    },
    {
      "cell_type": "code",
      "source": [
        "p = True\n",
        "q = False\n",
        "\n",
        "print(f\"p and q: {p and q}\") # Both must be True\n",
        "print(f\"p or q: {p or q}\") # At least one must be True\n",
        "print(f\"not p: {not p}\") # Opposite of p"
      ],
      "metadata": {
        "colab": {
          "base_uri": "https://localhost:8080/"
        },
        "id": "_kE9cGoICLay",
        "outputId": "a223b2e5-aa2c-40f9-81b5-d10fc77b0593"
      },
      "execution_count": null,
      "outputs": [
        {
          "output_type": "stream",
          "name": "stdout",
          "text": [
            "p and q: False\n",
            "p or q: True\n",
            "not p: False\n"
          ]
        }
      ]
    },
    {
      "cell_type": "code",
      "source": [
        "age = 20\n",
        "has_license = True\n",
        "can_drive = age >= 18 and has_license\n",
        "print(f\"Can drive: {can_drive}\")"
      ],
      "metadata": {
        "colab": {
          "base_uri": "https://localhost:8080/"
        },
        "id": "29rzEWDGCP7a",
        "outputId": "d289c75d-a235-4b2d-b0d4-e6b15ea66f45"
      },
      "execution_count": null,
      "outputs": [
        {
          "output_type": "stream",
          "name": "stdout",
          "text": [
            "Can drive: True\n"
          ]
        }
      ]
    },
    {
      "cell_type": "code",
      "source": [
        "score = 85\n",
        "is_present = True\n",
        "can_pass = score >= 80 and is_present\n",
        "print(f\"Can pass: {can_pass}\")\n"
      ],
      "metadata": {
        "colab": {
          "base_uri": "https://localhost:8080/"
        },
        "id": "xVitFY1LCUQC",
        "outputId": "231fdfdb-cdb4-485b-9dc7-197de44b0b2e"
      },
      "execution_count": null,
      "outputs": [
        {
          "output_type": "stream",
          "name": "stdout",
          "text": [
            "Can pass: True\n"
          ]
        }
      ]
    },
    {
      "cell_type": "code",
      "source": [
        "age = 25\n",
        "annual_income = 50000\n",
        "credit_score = 720\n",
        "has_collateral = True\n"
      ],
      "metadata": {
        "id": "arQ0s0zRCZP3"
      },
      "execution_count": null,
      "outputs": []
    },
    {
      "cell_type": "code",
      "source": [
        "min_age = 18\n",
        "min_income = 30000\n",
        "min_credit_score = 650\n"
      ],
      "metadata": {
        "id": "4GZu1A8wChqi"
      },
      "execution_count": null,
      "outputs": []
    },
    {
      "cell_type": "code",
      "source": [
        "age_qualified = age >= min_age\n",
        "income_qualified = annual_income >= min_income\n",
        "credit_qualified = credit_score >= min_credit_score\n",
        "overall_qualified = age_qualified and income_qualified and credit_qualified\n",
        "\n",
        "\n",
        "print(\"=== Loan Qualification Check ===\")\n",
        "print(f\"Age: {age} (Required: {min_age}) - {'Yes' if age_qualified else 'No'}\")\n",
        "print(f\"Income: ${annual_income} (Required: ${min_income}) - {'Yes' if income_qualified else 'No'}\")\n",
        "print(f\"Credit Score: {credit_score} (Required: {min_credit_score}) - {'Yes' if credit_qualified else 'No'}\")\n",
        "print(f\"Has Collateral: {'Yes' if has_collateral else 'No'}\")\n",
        "print(f\"\\nOverall Qualification: {'QUALIFIED' if overall_qualified else 'NOT QUALIFIED'}\")\n"
      ],
      "metadata": {
        "colab": {
          "base_uri": "https://localhost:8080/"
        },
        "id": "dnCex6wwCjsE",
        "outputId": "c9f320a3-090b-4904-85e1-c57b900c0d54"
      },
      "execution_count": null,
      "outputs": [
        {
          "output_type": "stream",
          "name": "stdout",
          "text": [
            "=== Loan Qualification Check ===\n",
            "Age: 25 (Required: 18) - Yes\n",
            "Income: $50000 (Required: $30000) - Yes\n",
            "Credit Score: 720 (Required: 650) - Yes\n",
            "Has Collateral: Yes\n",
            "\n",
            "Overall Qualification: QUALIFIED\n"
          ]
        }
      ]
    },
    {
      "cell_type": "code",
      "source": [
        "print(f\"\")"
      ],
      "metadata": {
        "id": "V1yiOlnLJN_j",
        "colab": {
          "base_uri": "https://localhost:8080/"
        },
        "outputId": "341f798b-9411-449f-db10-b5c142de4424"
      },
      "execution_count": null,
      "outputs": [
        {
          "output_type": "stream",
          "name": "stdout",
          "text": [
            "\n"
          ]
        }
      ]
    },
    {
      "cell_type": "code",
      "source": [],
      "metadata": {
        "id": "Udh-8ApSCNu5"
      },
      "execution_count": null,
      "outputs": []
    },
    {
      "cell_type": "code",
      "source": [
        "def analyze_text(text):\n",
        "  words=text.split()\n",
        "  word_count=len(words)\n",
        "  char_count=len(text)\n",
        "  char_count_no_spaces=len(text.replace(\"\",\"\"))\n",
        "  return word_count, char_conunt,char_count_no_space\n"
      ],
      "metadata": {
        "id": "8isduNVWWi_L"
      },
      "execution_count": null,
      "outputs": []
    },
    {
      "cell_type": "code",
      "source": [
        "def calculate_average(*numbers):\n",
        "  if not numbers:\n",
        "    return 0\n",
        "    return sum(numbers)/len(numbers)\n"
      ],
      "metadata": {
        "id": "Qa7hMuf2W6w0"
      },
      "execution_count": null,
      "outputs": []
    },
    {
      "cell_type": "code",
      "source": [
        "avg1 = calculate_average(10,20,30)\n",
        "avg2= calculate_average(5,15,25,35,45)\n",
        "avg3=calculate_average(100)\n",
        "print(f\"Average of 10,20,30:{avg1}\")\n",
        "print(f\"Average of 5,15,25,35,45:{avg2}\")\n",
        "print(f\"Average of 100:{avg3}\")"
      ],
      "metadata": {
        "id": "r2Kn-1hYW-yk",
        "colab": {
          "base_uri": "https://localhost:8080/"
        },
        "outputId": "6811acdf-219d-4c8a-85e5-44769703716f"
      },
      "execution_count": null,
      "outputs": [
        {
          "output_type": "stream",
          "name": "stdout",
          "text": [
            "Average of 10,20,30:None\n",
            "Average of 5,15,25,35,45:None\n",
            "Average of 100:None\n"
          ]
        }
      ]
    },
    {
      "cell_type": "code",
      "source": [
        "def create_report(**data):\n",
        "  print(\"==REPORT==\")\n",
        "  for key, value in data.items():\n",
        "    print(f\"{key.replace('_','').title()}:{value}\")\n",
        "    print(\"===============\")\n",
        "    create_report(\n",
        "        title=\"Monthly Sales Report\",\n",
        "        date=\"2024-01-01\",\n",
        "        total_sales=15000,\n",
        "        new_customers=25,\n",
        "        returning_coustmers=150\n",
        "    )"
      ],
      "metadata": {
        "id": "kGBImBdrXDos"
      },
      "execution_count": null,
      "outputs": []
    },
    {
      "cell_type": "code",
      "source": [
        "def square(x):\n",
        "  return x**2"
      ],
      "metadata": {
        "id": "bYOBt9l8XOZt"
      },
      "execution_count": null,
      "outputs": []
    },
    {
      "cell_type": "code",
      "source": [
        "multiply=lambda x,y:x*y\n",
        "print(f\"Multiply: {multiply(3,4)}\")"
      ],
      "metadata": {
        "id": "sQrct3eoXbI8",
        "colab": {
          "base_uri": "https://localhost:8080/"
        },
        "outputId": "48ea1148-a828-4d7c-b326-5d93e93a36b3"
      },
      "execution_count": null,
      "outputs": [
        {
          "output_type": "stream",
          "name": "stdout",
          "text": [
            "Multiply: 12\n"
          ]
        }
      ]
    },
    {
      "cell_type": "code",
      "source": [
        "numbers=[1,2,3,4,5]\n",
        "squared=list(map(lambda x:x**2,numbers))\n",
        "print(f\"Squared numbers:{squared}\")"
      ],
      "metadata": {
        "id": "11K_b7CxXdud",
        "colab": {
          "base_uri": "https://localhost:8080/"
        },
        "outputId": "d7ae8d3f-08de-401f-dc96-0b8dfde17efa"
      },
      "execution_count": null,
      "outputs": [
        {
          "output_type": "stream",
          "name": "stdout",
          "text": [
            "Squared numbers:[1, 4, 9, 16, 25]\n"
          ]
        }
      ]
    },
    {
      "cell_type": "code",
      "source": [
        "ages=[16,21,35,12,45,18,67]\n",
        "adults=list(filter(lambda age: age>=18,ages))\n",
        "print(f\"Adults ages:{adults}\")"
      ],
      "metadata": {
        "id": "LD4Dm51PXrKc",
        "colab": {
          "base_uri": "https://localhost:8080/"
        },
        "outputId": "2f0d7e8b-3495-4522-fe98-f1c24b2c2b7f"
      },
      "execution_count": null,
      "outputs": [
        {
          "output_type": "stream",
          "name": "stdout",
          "text": [
            "Adults ages:[21, 35, 45, 18, 67]\n"
          ]
        }
      ]
    },
    {
      "cell_type": "code",
      "source": [
        "people=[\n",
        "    {\"name\":\"Varsha\",\"age\":19},\n",
        "    {\"name\":\"Sahana\",\"age\":20},\n",
        "    {\"name\":\"Rashmi\",\"age\":19}\n",
        "]\n",
        "sorted_people= sorted(people,key=lambda person:person[\"age\"])\n",
        "print(\"people sorted by age:\")\n",
        "\n",
        "for person in sorted_people:\n",
        "  print(f\"{person['name']}:{person['age']}\")"
      ],
      "metadata": {
        "colab": {
          "base_uri": "https://localhost:8080/"
        },
        "id": "5F2Zg3SUYJUj",
        "outputId": "f19bccc1-52ba-47cf-c1f5-3bf261e9999c"
      },
      "execution_count": null,
      "outputs": [
        {
          "output_type": "stream",
          "name": "stdout",
          "text": [
            "people sorted by age:\n",
            "Varsha:19\n",
            "Rashmi:19\n",
            "Sahana:20\n"
          ]
        }
      ]
    },
    {
      "cell_type": "code",
      "source": [
        "print(\"=== Loan Qualification Check ===\")\n",
        "print(f\"Age: {age} (Required: {min_age}) - {'Yes' if age_qualified else 'No'}\")\n",
        "print(f\"Income: ${annual_income} (Required: ${min_income}) - {'Yes' if income_qualified else 'No'}\")\n",
        "print(f\"Credit Score: {credit_score} (Required: {min_credit_score}) - {'Yes' if credit_qualified else 'No'}\")\n",
        "print(f\"Has Collateral: {'Yes' if has_collateral else 'No'}\")\n",
        "print(f\"\\nOverall Qualification: {'QUALIFIED' if overall_qualified else 'NOT QUALIFIED'}\")\n"
      ],
      "metadata": {
        "id": "lHF1zp5vYitO",
        "colab": {
          "base_uri": "https://localhost:8080/"
        },
        "outputId": "a31e2463-7632-4f18-e985-0cab2d832a81"
      },
      "execution_count": null,
      "outputs": [
        {
          "output_type": "stream",
          "name": "stdout",
          "text": [
            "=== Loan Qualification Check ===\n",
            "Age: 25 (Required: 18) - Yes\n",
            "Income: $50000 (Required: $30000) - Yes\n",
            "Credit Score: 720 (Required: 650) - Yes\n",
            "Has Collateral: Yes\n",
            "\n",
            "Overall Qualification: QUALIFIED\n"
          ]
        }
      ]
    },
    {
      "cell_type": "code",
      "source": [
        "fruits = [\"apple\", \"banana\", \"orange\", \"grape\"]\n",
        "numbers = [10, 20, 30, 40, 50]\n",
        "mixed_data = [1, \"Hello\", 3.14, True]\n"
      ],
      "metadata": {
        "id": "YdBvbl0tYijT"
      },
      "execution_count": null,
      "outputs": []
    },
    {
      "cell_type": "code",
      "source": [
        "print(f\"First fruit: {fruits[0]}\")\n",
        "print(f\"Last fruit: {fruits[-1]}\")\n",
        "print(f\"Second to last: {fruits[-2]}\")"
      ],
      "metadata": {
        "colab": {
          "base_uri": "https://localhost:8080/"
        },
        "id": "2vAXD84DI4dn",
        "outputId": "7503f4fc-0b7f-4839-fd8b-7c1d4a9a6948"
      },
      "execution_count": null,
      "outputs": [
        {
          "output_type": "stream",
          "name": "stdout",
          "text": [
            "First fruit: apple\n",
            "Last fruit: grape\n",
            "Second to last: orange\n"
          ]
        }
      ]
    },
    {
      "cell_type": "code",
      "source": [
        "print(f\"First 2 fruits: {fruits[0:2]}\")\n",
        "print(f\"Last 2 fruits: {fruits[-2:]}\")\n",
        "print(f\"All except first: {fruits[1:]}\")"
      ],
      "metadata": {
        "colab": {
          "base_uri": "https://localhost:8080/"
        },
        "id": "MYElkYymI8kp",
        "outputId": "f5c59cca-7df3-4c39-b259-e918b8bcd761"
      },
      "execution_count": null,
      "outputs": [
        {
          "output_type": "stream",
          "name": "stdout",
          "text": [
            "First 2 fruits: ['apple', 'banana']\n",
            "Last 2 fruits: ['orange', 'grape']\n",
            "All except first: ['banana', 'orange', 'grape']\n"
          ]
        }
      ]
    },
    {
      "cell_type": "code",
      "source": [
        "fruits.append(\"kiwi\") # Add to end\n",
        "fruits.insert(1, \"strawberry\") # Insert at index\n",
        "removed = fruits.pop() # Remove last\n",
        "print(f\"Updated list: {fruits}\")\n",
        "print(f\"Removed: {removed}\")\n"
      ],
      "metadata": {
        "colab": {
          "base_uri": "https://localhost:8080/"
        },
        "id": "hwDPj4luJAVp",
        "outputId": "4077206f-87c2-4638-ef7b-79698e5402df"
      },
      "execution_count": null,
      "outputs": [
        {
          "output_type": "stream",
          "name": "stdout",
          "text": [
            "Updated list: ['apple', 'strawberry', 'banana', 'orange', 'grape']\n",
            "Removed: kiwi\n"
          ]
        }
      ]
    },
    {
      "cell_type": "code",
      "source": [
        "print(f\"Length: {len(fruits)}\")\n",
        "print(f\"Contains 'apple': {'apple' in fruits}\")\n",
        "print(f\"Index of 'banana': {fruits.index('banana')}\")"
      ],
      "metadata": {
        "colab": {
          "base_uri": "https://localhost:8080/"
        },
        "id": "izbamlFaJEVQ",
        "outputId": "484f3c4c-38ed-4117-e3a6-44c74b816a57"
      },
      "execution_count": null,
      "outputs": [
        {
          "output_type": "stream",
          "name": "stdout",
          "text": [
            "Length: 5\n",
            "Contains 'apple': True\n",
            "Index of 'banana': 2\n"
          ]
        }
      ]
    },
    {
      "cell_type": "code",
      "source": [
        "coordinates = (10, 20)\n",
        "rgb_color = (255, 128, 0)\n",
        "person_info = (\"Alice\", 25, \"Engineer\", True)"
      ],
      "metadata": {
        "id": "xi2xBcWMJIDj"
      },
      "execution_count": null,
      "outputs": []
    },
    {
      "cell_type": "code",
      "source": [
        "x, y = coordinates\n",
        "print(f\"X: {x}, Y: {y}\")\n"
      ],
      "metadata": {
        "colab": {
          "base_uri": "https://localhost:8080/"
        },
        "id": "fYvM1ZSfJNBf",
        "outputId": "e034ab73-de29-4ce9-ceb4-3e280048e124"
      },
      "execution_count": null,
      "outputs": [
        {
          "output_type": "stream",
          "name": "stdout",
          "text": [
            "X: 10, Y: 20\n"
          ]
        }
      ]
    },
    {
      "cell_type": "code",
      "source": [
        "print(f\"Count of 25: {person_info.count(25)}\")\n",
        "print(f\"Index of 'Engineer': {person_info.index('Engineer')}\")\n"
      ],
      "metadata": {
        "colab": {
          "base_uri": "https://localhost:8080/"
        },
        "id": "aaejfJODJQqX",
        "outputId": "a568829b-9364-4442-fa7a-d91d76ae3a71"
      },
      "execution_count": null,
      "outputs": [
        {
          "output_type": "stream",
          "name": "stdout",
          "text": [
            "Count of 25: 1\n",
            "Index of 'Engineer': 2\n"
          ]
        }
      ]
    },
    {
      "cell_type": "code",
      "source": [
        "\n",
        "person = {\n",
        "\"name\": \"Alice Johnson\",\n",
        "\"age\": 23,\n",
        "\"profession\": \"Software Engineer\",\n",
        "\"salary\": 75000,\n",
        "\"skills\": [\"Python\", \"JavaScript\", \"SQL\"]\n",
        "}"
      ],
      "metadata": {
        "id": "zo-jzFh8JT47"
      },
      "execution_count": null,
      "outputs": []
    },
    {
      "cell_type": "code",
      "source": [
        "print(f\"Name: {person['name']}\")\n",
        "print(f\"Age: {person.get('age', 'Unknown')}\")"
      ],
      "metadata": {
        "colab": {
          "base_uri": "https://localhost:8080/"
        },
        "id": "N3K53uqRJfA4",
        "outputId": "d8870116-9f63-4ef4-f98e-dc06aa7bd2de"
      },
      "execution_count": null,
      "outputs": [
        {
          "output_type": "stream",
          "name": "stdout",
          "text": [
            "Name: Alice Johnson\n",
            "Age: 23\n"
          ]
        }
      ]
    },
    {
      "cell_type": "code",
      "source": [
        "print(f\"Keys: {list(person.keys())}\")\n",
        "print(f\"Values: {list(person.values())}\")\n",
        "print(f\"Items: {list(person.items())}\")"
      ],
      "metadata": {
        "colab": {
          "base_uri": "https://localhost:8080/"
        },
        "id": "QVFeA3qwJgOr",
        "outputId": "1b5211b4-5201-4c02-983a-9554649c0395"
      },
      "execution_count": null,
      "outputs": [
        {
          "output_type": "stream",
          "name": "stdout",
          "text": [
            "Keys: ['name', 'age', 'profession', 'salary', 'skills']\n",
            "Values: ['Alice Johnson', 23, 'Software Engineer', 75000, ['Python', 'JavaScript', 'SQL']]\n",
            "Items: [('name', 'Alice Johnson'), ('age', 23), ('profession', 'Software Engineer'), ('salary', 75000), ('skills', ['Python', 'JavaScript', 'SQL'])]\n"
          ]
        }
      ]
    },
    {
      "cell_type": "code",
      "source": [
        "person[\"location\"] = \"New York\"\n",
        "person[\"salary\"] = 80000"
      ],
      "metadata": {
        "id": "-eyNbX1vJoIg"
      },
      "execution_count": null,
      "outputs": []
    },
    {
      "cell_type": "code",
      "source": [
        "inventory = {\n",
        "\"laptops\": {\"quantity\": 50, \"price\": 999.99},\n",
        "\"phones\": {\"quantity\": 100, \"price\": 599.99},\n",
        "\"tablets\": {\"quantity\": 30, \"price\": 399.99}\n",
        "}\n"
      ],
      "metadata": {
        "id": "DP24LWyCJrpw"
      },
      "execution_count": null,
      "outputs": []
    },
    {
      "cell_type": "code",
      "source": [
        "print(f\"Laptop price: ${inventory['laptops']['price']}\")"
      ],
      "metadata": {
        "colab": {
          "base_uri": "https://localhost:8080/"
        },
        "id": "EXHdgWh1JvHw",
        "outputId": "38afe921-78d5-4502-a482-7eed8a18c5c5"
      },
      "execution_count": null,
      "outputs": [
        {
          "output_type": "stream",
          "name": "stdout",
          "text": [
            "Laptop price: $999.99\n"
          ]
        }
      ]
    },
    {
      "cell_type": "code",
      "source": [
        "colors = {\"red\", \"green\", \"blue\", \"red\"} # Duplicate removed\n",
        "print(f\"Colors: {colors}\")"
      ],
      "metadata": {
        "colab": {
          "base_uri": "https://localhost:8080/"
        },
        "id": "q6PK2cdJJx2C",
        "outputId": "5386998a-8ad3-4271-9e38-a55e7235ec39"
      },
      "execution_count": null,
      "outputs": [
        {
          "output_type": "stream",
          "name": "stdout",
          "text": [
            "Colors: {'blue', 'green', 'red'}\n"
          ]
        }
      ]
    },
    {
      "cell_type": "code",
      "source": [
        "team1_skills = {\"Python\", \"JavaScript\", \"SQL\", \"React\"}\n",
        "team2_skills = {\"JavaScript\", \"SQL\", \"Java\", \"Spring\"}"
      ],
      "metadata": {
        "id": "aSX33Y_MJ00z"
      },
      "execution_count": null,
      "outputs": []
    },
    {
      "cell_type": "code",
      "source": [
        "print(f\"Common skills: {team1_skills.intersection(team2_skills)}\")\n",
        "print(f\"All skills: {team1_skills.union(team2_skills)}\")\n",
        "print(f\"Team1 only: {team1_skills.difference(team2_skills)}\")"
      ],
      "metadata": {
        "colab": {
          "base_uri": "https://localhost:8080/"
        },
        "id": "gJXR-1LdJ4Lx",
        "outputId": "05cf7809-4ba8-4c11-f21a-00b5c91a0c25"
      },
      "execution_count": null,
      "outputs": [
        {
          "output_type": "stream",
          "name": "stdout",
          "text": [
            "Common skills: {'JavaScript', 'SQL'}\n",
            "All skills: {'SQL', 'JavaScript', 'Java', 'React', 'Spring', 'Python'}\n",
            "Team1 only: {'Python', 'React'}\n"
          ]
        }
      ]
    },
    {
      "cell_type": "code",
      "source": [
        "colors.add(\"yellow\")\n",
        "colors.update([\"purple\", \"orange\"])\n",
        "print(f\"Updated colors: {colors}\")\n"
      ],
      "metadata": {
        "colab": {
          "base_uri": "https://localhost:8080/"
        },
        "id": "cE7QO918J7q5",
        "outputId": "f4be042a-dc5c-4111-ce7e-b7e84d57e12b"
      },
      "execution_count": null,
      "outputs": [
        {
          "output_type": "stream",
          "name": "stdout",
          "text": [
            "Updated colors: {'green', 'red', 'orange', 'yellow', 'blue', 'purple'}\n"
          ]
        }
      ]
    },
    {
      "cell_type": "code",
      "source": [
        "def get_grade_letter(score):\n",
        "  if score >= 90:\n",
        "    return \"A\"\n",
        "  elif score >= 80:\n",
        "    return \"B\"\n",
        "  elif score >= 70:\n",
        "    return \"C\"\n",
        "  elif score >= 60:\n",
        "    return \"D\"\n",
        "  else:\n",
        "    return \"F\"\n"
      ],
      "metadata": {
        "id": "6V2LcDoEJ-9b"
      },
      "execution_count": null,
      "outputs": []
    },
    {
      "cell_type": "code",
      "source": [
        "test_scores = [95, 83, 72, 65, 58]\n",
        "for score in test_scores:\n",
        "  grade = get_grade_letter(score)\n",
        "  print(f\"Score {score}: Grade {grade}\")\n"
      ],
      "metadata": {
        "colab": {
          "base_uri": "https://localhost:8080/"
        },
        "id": "sztYRO4SKC7b",
        "outputId": "b5932378-cd33-4aae-a6ea-49116831229b"
      },
      "execution_count": null,
      "outputs": [
        {
          "output_type": "stream",
          "name": "stdout",
          "text": [
            "Score 95: Grade A\n",
            "Score 83: Grade B\n",
            "Score 72: Grade C\n",
            "Score 65: Grade D\n",
            "Score 58: Grade F\n"
          ]
        }
      ]
    },
    {
      "cell_type": "code",
      "source": [
        "def get_shipping_cost(weight, distance):\n",
        "  base_cost = 5.0\n",
        "\n",
        "  if weight <= 1:\n",
        "    weight_cost = 2.0\n",
        "  elif weight <= 5:\n",
        "    weight_cost = 5.0\n",
        "  else:\n",
        "    weight_cost = 10.0\n",
        "\n",
        "  if distance <= 100:\n",
        "    distance_cost = 1.0\n",
        "  elif distance <= 500:\n",
        "    distance_cost = 3.0\n",
        "  else:\n",
        "    distance_cost = 7.0\n",
        "  return base_cost + weight_cost + distance_cost"
      ],
      "metadata": {
        "id": "cjxKzNM8KHf4"
      },
      "execution_count": null,
      "outputs": []
    },
    {
      "cell_type": "code",
      "source": [
        "print(f\"Light, close: ${get_shipping_cost(0.5, 50)}\")\n",
        "print(f\"Heavy, far: ${get_shipping_cost(10, 800)}\")\n"
      ],
      "metadata": {
        "colab": {
          "base_uri": "https://localhost:8080/"
        },
        "id": "JspqaDJWKLqs",
        "outputId": "1ef3ec35-1c5b-42a2-d73e-479045fd923a"
      },
      "execution_count": null,
      "outputs": [
        {
          "output_type": "stream",
          "name": "stdout",
          "text": [
            "Light, close: $8.0\n",
            "Heavy, far: $22.0\n"
          ]
        }
      ]
    },
    {
      "cell_type": "code",
      "source": [
        "fruits = [\"apple\", \"banana\", \"orange\", \"grape\"]\n",
        "for fruit in fruits:\n",
        "  print(f\"I like {fruit}\")\n"
      ],
      "metadata": {
        "colab": {
          "base_uri": "https://localhost:8080/"
        },
        "id": "IBn8qVpuKPGa",
        "outputId": "ca4e49de-c0de-4587-c3eb-24a87d03192c"
      },
      "execution_count": null,
      "outputs": [
        {
          "output_type": "stream",
          "name": "stdout",
          "text": [
            "I like apple\n",
            "I like banana\n",
            "I like orange\n",
            "I like grape\n"
          ]
        }
      ]
    },
    {
      "cell_type": "code",
      "source": [
        "for i, fruit in enumerate(fruits):\n",
        "  print(f\"{i+1}. {fruit}\")"
      ],
      "metadata": {
        "colab": {
          "base_uri": "https://localhost:8080/"
        },
        "id": "GIqzjbaaKSJ6",
        "outputId": "a12a8518-1641-4bc5-886d-479c5365372c"
      },
      "execution_count": null,
      "outputs": [
        {
          "output_type": "stream",
          "name": "stdout",
          "text": [
            "1. apple\n",
            "2. banana\n",
            "3. orange\n",
            "4. grape\n"
          ]
        }
      ]
    },
    {
      "cell_type": "code",
      "source": [
        "for day in range(1, 8):\n",
        "  print(f\"Day {day} of the week\")"
      ],
      "metadata": {
        "colab": {
          "base_uri": "https://localhost:8080/"
        },
        "id": "ejK3uQCNKVBq",
        "outputId": "1d00db7e-4dff-4e18-9491-53b9d27a1fc0"
      },
      "execution_count": null,
      "outputs": [
        {
          "output_type": "stream",
          "name": "stdout",
          "text": [
            "Day 1 of the week\n",
            "Day 2 of the week\n",
            "Day 3 of the week\n",
            "Day 4 of the week\n",
            "Day 5 of the week\n",
            "Day 6 of the week\n",
            "Day 7 of the week\n"
          ]
        }
      ]
    },
    {
      "cell_type": "code",
      "source": [
        "print(\"Multiplication Table:\")\n",
        "for i in range(1, 6):\n",
        "  for j in range(1, 6):\n",
        "    product = i * j\n",
        "    print(f\"{i} x {j} = {product:2d}\", end=\" \")\n",
        "    print()"
      ],
      "metadata": {
        "colab": {
          "base_uri": "https://localhost:8080/"
        },
        "id": "ugJnOWjBKZMa",
        "outputId": "4b902abb-7a16-4212-e353-cb3441782e88"
      },
      "execution_count": null,
      "outputs": [
        {
          "output_type": "stream",
          "name": "stdout",
          "text": [
            "Multiplication Table:\n",
            "1 x 1 =  1 \n",
            "1 x 2 =  2 \n",
            "1 x 3 =  3 \n",
            "1 x 4 =  4 \n",
            "1 x 5 =  5 \n",
            "2 x 1 =  2 \n",
            "2 x 2 =  4 \n",
            "2 x 3 =  6 \n",
            "2 x 4 =  8 \n",
            "2 x 5 = 10 \n",
            "3 x 1 =  3 \n",
            "3 x 2 =  6 \n",
            "3 x 3 =  9 \n",
            "3 x 4 = 12 \n",
            "3 x 5 = 15 \n",
            "4 x 1 =  4 \n",
            "4 x 2 =  8 \n",
            "4 x 3 = 12 \n",
            "4 x 4 = 16 \n",
            "4 x 5 = 20 \n",
            "5 x 1 =  5 \n",
            "5 x 2 = 10 \n",
            "5 x 3 = 15 \n",
            "5 x 4 = 20 \n",
            "5 x 5 = 25 \n"
          ]
        }
      ]
    },
    {
      "cell_type": "code",
      "source": [
        "sales_data = [\n",
        "{\"product\": \"Laptop\", \"price\": 999, \"quantity\": 5},\n",
        "{\"product\": \"Phone\", \"price\": 599, \"quantity\": 10},\n",
        "{\"product\": \"Tablet\", \"price\": 399, \"quantity\": 8}\n",
        "]\n",
        "\n",
        "total_revenue = 0\n",
        "\n",
        "for item in sales_data:\n",
        "  item_revenue = item[\"price\"] * item[\"quantity\"]\n",
        "  total_revenue += item_revenue\n",
        "  print(f\"{item['product']}: ${item_revenue}\")\n",
        "\n",
        "print(f\"Total Revenue: ${total_revenue}\")\n"
      ],
      "metadata": {
        "colab": {
          "base_uri": "https://localhost:8080/"
        },
        "id": "WFrPRx61KdN6",
        "outputId": "319a9aeb-c40f-421e-e229-56a54da2a155"
      },
      "execution_count": null,
      "outputs": [
        {
          "output_type": "stream",
          "name": "stdout",
          "text": [
            "Laptop: $4995\n",
            "Phone: $5990\n",
            "Tablet: $3192\n",
            "Total Revenue: $14177\n"
          ]
        }
      ]
    },
    {
      "cell_type": "code",
      "source": [
        "def simple_guessing_game():\n",
        "  target = 7\n",
        "  guess = 0\n",
        "  attempts = 0\n",
        "  print(\"Guess the number between 1 and 10!\")\n",
        "\n",
        "  while guess != target:\n",
        "\n",
        "    # Simulate user input\n",
        "    import random\n",
        "    guess = random.randint(1, 10)\n",
        "    attempts += 1\n",
        "\n",
        "    if guess < target:\n",
        "      print(f\"Guess {attempts}: {guess} - Too low!\")\n",
        "    elif guess > target:\n",
        "      print(f\"Guess {attempts}: {guess} - Too high!\")\n",
        "    else:\n",
        "      print(f\"Guess {attempts}: {guess} - Correct!\")\n",
        "\n",
        "    # Safety check\n",
        "    if attempts > 10:\n",
        "      print(\"Max attempts reached!\")\n",
        "      break\n",
        "\n",
        "  print(f\"Game finished in {attempts} attempts\")\n",
        "\n",
        "simple_guessing_game()"
      ],
      "metadata": {
        "colab": {
          "base_uri": "https://localhost:8080/"
        },
        "id": "hZsic91CKhlL",
        "outputId": "6b926359-6d79-47f4-c449-6eba00af8a78"
      },
      "execution_count": null,
      "outputs": [
        {
          "output_type": "stream",
          "name": "stdout",
          "text": [
            "Guess the number between 1 and 10!\n",
            "Guess 1: 1 - Too low!\n",
            "Guess 2: 2 - Too low!\n",
            "Guess 3: 4 - Too low!\n",
            "Guess 4: 7 - Correct!\n",
            "Game finished in 4 attempts\n"
          ]
        }
      ]
    },
    {
      "cell_type": "markdown",
      "source": [],
      "metadata": {
        "id": "haY8vDdzYiOV"
      }
    },
    {
      "cell_type": "code",
      "source": [
        "def process_queue():\n",
        "  queue = [\"Task 1\", \"Task 2\", \"Task 3\", \"Task 4\"]\n",
        "\n",
        "  while queue:\n",
        "    current_task = queue.pop(0) # Remove first item\n",
        "    print(f\"Processing: {current_task}\")\n",
        "\n",
        "    print(f\"Remaining tasks: {len(queue)}\")\n",
        "\n",
        "  print(\"All tasks completed!\")"
      ],
      "metadata": {
        "id": "yv3ZWlD2KmLd"
      },
      "execution_count": null,
      "outputs": []
    },
    {
      "cell_type": "code",
      "source": [
        "def greet(name):\n",
        "  return f\"Hello, {name}!\""
      ],
      "metadata": {
        "id": "WyXcoJ2sKqOS"
      },
      "execution_count": null,
      "outputs": []
    },
    {
      "cell_type": "code",
      "source": [
        "def calculate_area(length, width):\n",
        "  area = length * width\n",
        "  return area"
      ],
      "metadata": {
        "id": "BqLw1pXhLAa3"
      },
      "execution_count": null,
      "outputs": []
    },
    {
      "cell_type": "code",
      "source": [
        "room_area = calculate_area(12, 10)\n",
        "print(f\"Room area: {room_area} square feet\")"
      ],
      "metadata": {
        "colab": {
          "base_uri": "https://localhost:8080/"
        },
        "id": "MwbNQBRTLETO",
        "outputId": "48ddc3ce-cfef-4f2f-9c06-26832aa63ea9"
      },
      "execution_count": null,
      "outputs": [
        {
          "output_type": "stream",
          "name": "stdout",
          "text": [
            "Room area: 120 square feet\n"
          ]
        }
      ]
    },
    {
      "cell_type": "code",
      "source": [
        "def create_user_profile(name, age=18, location=\"Unknown\", active=True):\n",
        "  return {\n",
        "      \"name\": name,\n",
        "      \"age\": age,\n",
        "      \"location\": location,\n",
        "      \"active\": active\n",
        "  }\n"
      ],
      "metadata": {
        "id": "98rs0GI_LICD"
      },
      "execution_count": null,
      "outputs": []
    },
    {
      "cell_type": "code",
      "source": [
        "profile1 = create_user_profile(\"Alice\") # Use defaults\n",
        "profile2 = create_user_profile(\"Bob\", 25) # Override age\n",
        "profile3 = create_user_profile(\"Charlie\", location=\"New York\", age=30) # Named parameters\n",
        "\n",
        "print(f\"Profile 1: {profile1}\")\n",
        "print(f\"Profile 2: {profile2}\")\n",
        "print(f\"Profile 3: {profile3}\")"
      ],
      "metadata": {
        "colab": {
          "base_uri": "https://localhost:8080/"
        },
        "id": "G5Rl4k3OLLwG",
        "outputId": "15675f4c-ebe9-45ca-c485-0f7e0cac129c"
      },
      "execution_count": null,
      "outputs": [
        {
          "output_type": "stream",
          "name": "stdout",
          "text": [
            "Profile 1: {'name': 'Alice', 'age': 18, 'location': 'Unknown', 'active': True}\n",
            "Profile 2: {'name': 'Bob', 'age': 25, 'location': 'Unknown', 'active': True}\n",
            "Profile 3: {'name': 'Charlie', 'age': 30, 'location': 'New York', 'active': True}\n"
          ]
        }
      ]
    },
    {
      "cell_type": "code",
      "source": [
        "def analyze_text(text):\n",
        "  words = text.split()\n",
        "  word_count = len(words)\n",
        "  char_count = len(text)\n",
        "  char_count_no_spaces = len(text.replace(\" \", \"\"))\n",
        "  return word_count, char_count, char_count_no_spaces"
      ],
      "metadata": {
        "id": "8Fea7DZqLP69"
      },
      "execution_count": null,
      "outputs": []
    },
    {
      "cell_type": "code",
      "source": [
        "sample_text = \"Python is a powerful programming language\"\n",
        "words, chars, chars_no_space = analyze_text(sample_text)\n",
        "print(f\"Text: '{sample_text}'\")\n",
        "print(f\"Word count: {words}\")\n",
        "print(f\"Character count: {chars}\")\n",
        "print(f\"Characters (no spaces): {chars_no_space}\")\n"
      ],
      "metadata": {
        "colab": {
          "base_uri": "https://localhost:8080/"
        },
        "id": "RpCUhp5ELXo1",
        "outputId": "4cf4ae93-8f8e-442d-9c2f-8649d4044b6c"
      },
      "execution_count": null,
      "outputs": [
        {
          "output_type": "stream",
          "name": "stdout",
          "text": [
            "Text: 'Python is a powerful programming language'\n",
            "Word count: 6\n",
            "Character count: 41\n",
            "Characters (no spaces): 36\n"
          ]
        }
      ]
    },
    {
      "cell_type": "code",
      "source": [
        "def calculate_average(*numbers):\n",
        "  if not numbers:\n",
        "    return 0\n",
        "    return sum(numbers) / len(numbers)"
      ],
      "metadata": {
        "id": "K1WZ0XPaLas2"
      },
      "execution_count": null,
      "outputs": []
    },
    {
      "cell_type": "code",
      "source": [
        "avg1 = calculate_average(10, 20, 30)\n",
        "avg2 = calculate_average(5, 15, 25, 35, 45)\n",
        "avg3 = calculate_average(100)\n",
        "\n",
        "print(f\"Average of 10, 20, 30: {avg1}\")\n",
        "print(f\"Average of 5, 15, 25, 35, 45: {avg2}\")\n",
        "print(f\"Average of 100: {avg3}\")\n"
      ],
      "metadata": {
        "colab": {
          "base_uri": "https://localhost:8080/"
        },
        "id": "V2KweLjLLdqO",
        "outputId": "291e93da-b23b-4053-875d-7b11f5224ea4"
      },
      "execution_count": null,
      "outputs": [
        {
          "output_type": "stream",
          "name": "stdout",
          "text": [
            "Average of 10, 20, 30: None\n",
            "Average of 5, 15, 25, 35, 45: None\n",
            "Average of 100: None\n"
          ]
        }
      ]
    },
    {
      "cell_type": "code",
      "source": [
        "def create_report(**data):\n",
        "  print(\"=== REPORT ===\")\n",
        "  for key, value in data.items():\n",
        "    print(f\"{key.replace('_', ' ').title()}: {value}\")\n",
        "\n",
        "  print(\"===============\")\n",
        "\n",
        "create_report(\n",
        "  title=\"Monthly Sales Report\",\n",
        "  date=\"2024-01-01\",\n",
        "  total_sales=15000,\n",
        "  new_customers=25,\n",
        "  returning_customers=150\n",
        ")\n",
        "\n"
      ],
      "metadata": {
        "colab": {
          "base_uri": "https://localhost:8080/"
        },
        "id": "73KhOUmOLhsl",
        "outputId": "acad1913-ecbb-4fd0-91bf-77a9a3ae1819"
      },
      "execution_count": null,
      "outputs": [
        {
          "output_type": "stream",
          "name": "stdout",
          "text": [
            "=== REPORT ===\n",
            "Title: Monthly Sales Report\n",
            "Date: 2024-01-01\n",
            "Total Sales: 15000\n",
            "New Customers: 25\n",
            "Returning Customers: 150\n",
            "===============\n"
          ]
        }
      ]
    },
    {
      "cell_type": "code",
      "source": [
        "def square(x):\n",
        "  return x ** 2"
      ],
      "metadata": {
        "id": "pPNiacmNLr9w"
      },
      "execution_count": null,
      "outputs": []
    },
    {
      "cell_type": "code",
      "source": [
        "square_lambda = lambda x: x ** 2\n",
        "print(f\"Regular function: {square(5)}\")\n",
        "print(f\"Lambda function: {square_lambda(5)}\")\n"
      ],
      "metadata": {
        "colab": {
          "base_uri": "https://localhost:8080/"
        },
        "id": "EZ_eLUyOLvqY",
        "outputId": "ce54ab5c-b172-47ef-f0f2-58bc11bb2f26"
      },
      "execution_count": null,
      "outputs": [
        {
          "output_type": "stream",
          "name": "stdout",
          "text": [
            "Regular function: 25\n",
            "Lambda function: 25\n"
          ]
        }
      ]
    },
    {
      "cell_type": "code",
      "source": [
        "multiply = lambda x, y: x * y\n",
        "print(f\"Multiply: {multiply(3, 4)}\")\n"
      ],
      "metadata": {
        "colab": {
          "base_uri": "https://localhost:8080/"
        },
        "id": "ccXz-mYHLyu-",
        "outputId": "91eb17de-19b3-49c8-a3f9-764fc92a7f1d"
      },
      "execution_count": null,
      "outputs": [
        {
          "output_type": "stream",
          "name": "stdout",
          "text": [
            "Multiply: 12\n"
          ]
        }
      ]
    },
    {
      "cell_type": "code",
      "source": [
        "numbers = [1, 2, 3, 4, 5]\n",
        "squared = list(map(lambda x: x**2, numbers))\n",
        "print(f\"Squared numbers: {squared}\")\n"
      ],
      "metadata": {
        "colab": {
          "base_uri": "https://localhost:8080/"
        },
        "id": "66ZAO8VrL2Kd",
        "outputId": "b0bdc0f9-e3af-46ed-997f-4265ea917291"
      },
      "execution_count": null,
      "outputs": [
        {
          "output_type": "stream",
          "name": "stdout",
          "text": [
            "Squared numbers: [1, 4, 9, 16, 25]\n"
          ]
        }
      ]
    },
    {
      "cell_type": "code",
      "source": [
        "es = [16, 21, 35, 12, 45, 18, 67]\n",
        "adults = list(filter(lambda age: age >= 18, ages))\n",
        "print(f\"Adult ages: {adults}\")\n"
      ],
      "metadata": {
        "colab": {
          "base_uri": "https://localhost:8080/"
        },
        "id": "_D4AwXtfL5ym",
        "outputId": "b3feff78-93fe-45b1-ec8c-2167328e2c8c"
      },
      "execution_count": null,
      "outputs": [
        {
          "output_type": "stream",
          "name": "stdout",
          "text": [
            "Adult ages: [21, 35, 45, 18, 67]\n"
          ]
        }
      ]
    },
    {
      "cell_type": "code",
      "source": [
        "people = [\n",
        "  {\"name\": \"Alice\", \"age\": 30},\n",
        "  {\"name\": \"Bob\", \"age\": 25},\n",
        "  {\"name\": \"Charlie\", \"age\": 35}\n",
        "]\n",
        "\n",
        "sorted_people = sorted(people, key=lambda person: person[\"age\"])\n",
        "print(\"People sorted by age:\")\n",
        "\n",
        "for person in sorted_people:\n",
        "  print(f\" {person['name']}: {person['age']}\")\n"
      ],
      "metadata": {
        "colab": {
          "base_uri": "https://localhost:8080/"
        },
        "id": "BsKif36sL_m-",
        "outputId": "47eb941c-9ac9-4488-87c4-0e59e23f9942"
      },
      "execution_count": null,
      "outputs": [
        {
          "output_type": "stream",
          "name": "stdout",
          "text": [
            "People sorted by age:\n",
            " Bob: 25\n",
            " Alice: 30\n",
            " Charlie: 35\n"
          ]
        }
      ]
    },
    {
      "cell_type": "code",
      "source": [
        "def create_library_system():\n",
        "  \"\"\"\n",
        "  Create a simple library management system\n",
        "  \"\"\"\n",
        "  books = []\n",
        "\n",
        "  def add_book(title, author, isbn, available=True):\n",
        "    book = {\n",
        "    \"title\": title,\n",
        "    \"author\": author,\n",
        "    \"isbn\": isbn,\n",
        "    \"available\": available\n",
        "    }\n",
        "    books.append(book)\n",
        "    print(f\"Added: {title} by {author}\")\n",
        "\n",
        "  def find_book(title):\n",
        "    for book in books:\n",
        "      if book[\"title\"].lower() == title.lower():\n",
        "        return book\n",
        "    return None\n",
        "\n",
        "  def checkout_book(title):\n",
        "    book = find_book(title)\n",
        "    if book and book[\"available\"]:\n",
        "      book[\"available\"] = False\n",
        "      print(f\"Checked out: {title}\")\n",
        "      return True\n",
        "    else:\n",
        "      print(f\"Book not available: {title}\")\n",
        "      return False\n",
        "\n",
        "  def return_book(title):\n",
        "    book = find_book(title)\n",
        "    if book:\n",
        "      book[\"available\"] = True\n",
        "      print(f\"Returned: {title}\")\n",
        "      return True\n",
        "    else:\n",
        "      print(f\"Book not found: {title}\")\n",
        "      return False\n",
        "\n",
        "  def list_available_books():\n",
        "    available = [book for book in books if book[\"available\"]]\n",
        "    print(\"Available books:\")\n",
        "    for book in available:\n",
        "      print(f\" - {book['title']} by {book['author']}\")\n",
        "      return available\n",
        "\n",
        "  return add_book, find_book, checkout_book, return_book, list_available_books\n"
      ],
      "metadata": {
        "id": "8vcOS_BLMEOO"
      },
      "execution_count": null,
      "outputs": []
    },
    {
      "cell_type": "code",
      "source": [
        "add_book, find_book, checkout_book, return_book, list_available = create_library_system()\n",
        "\n",
        "# Add some books\n",
        "add_book(\"The Python Guide\", \"John Doe\", \"123-456-789\")\n",
        "add_book(\"Web Development Basics\", \"Jane Smith\", \"987-654-321\")\n",
        "add_book(\"Database Design\", \"Bob Johnson\", \"555-123-456\")\n",
        "\n",
        "# Test operations\n",
        "print(\"\\n--- Library Operations ---\")\n",
        "list_available()\n",
        "print()\n",
        "\n",
        "checkout_book(\"The Python Guide\")\n",
        "list_available()\n",
        "print()\n",
        "\n",
        "return_book(\"The Python Guide\")\n",
        "list_available()"
      ],
      "metadata": {
        "colab": {
          "base_uri": "https://localhost:8080/"
        },
        "id": "0GQnM4clMMWu",
        "outputId": "63a74964-a1ec-4805-d5f2-dc3a6ab657af"
      },
      "execution_count": null,
      "outputs": [
        {
          "output_type": "stream",
          "name": "stdout",
          "text": [
            "Added: The Python Guide by John Doe\n",
            "Added: Web Development Basics by Jane Smith\n",
            "Added: Database Design by Bob Johnson\n",
            "\n",
            "--- Library Operations ---\n",
            "Available books:\n",
            " - The Python Guide by John Doe\n",
            "\n",
            "Checked out: The Python Guide\n",
            "Available books:\n",
            " - Web Development Basics by Jane Smith\n",
            "\n",
            "Returned: The Python Guide\n",
            "Available books:\n",
            " - The Python Guide by John Doe\n"
          ]
        },
        {
          "output_type": "execute_result",
          "data": {
            "text/plain": [
              "[{'title': 'The Python Guide',\n",
              "  'author': 'John Doe',\n",
              "  'isbn': '123-456-789',\n",
              "  'available': True},\n",
              " {'title': 'Web Development Basics',\n",
              "  'author': 'Jane Smith',\n",
              "  'isbn': '987-654-321',\n",
              "  'available': True},\n",
              " {'title': 'Database Design',\n",
              "  'author': 'Bob Johnson',\n",
              "  'isbn': '555-123-456',\n",
              "  'available': True}]"
            ]
          },
          "metadata": {},
          "execution_count": 94
        }
      ]
    }
  ]
}